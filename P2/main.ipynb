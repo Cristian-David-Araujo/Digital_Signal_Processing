{
 "cells": [
  {
   "cell_type": "markdown",
   "metadata": {},
   "source": [
    "# Practica 1 - Muestreo, cuantificación, señales análogas y digitales\n",
    "\n",
    "**Author:** Cristian David Araujo A.\n",
    "\n",
    "**ID:** 1089568350\n",
    "\n",
    "**Date:** 21/08/2024\n",
    "\n"
   ]
  },
  {
   "cell_type": "markdown",
   "metadata": {},
   "source": []
  }
 ],
 "metadata": {
  "language_info": {
   "name": "python"
  }
 },
 "nbformat": 4,
 "nbformat_minor": 2
}
