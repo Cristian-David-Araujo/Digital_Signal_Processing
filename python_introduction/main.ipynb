{
 "cells": [
  {
   "cell_type": "markdown",
   "metadata": {},
   "source": [
    "\n",
    "# Practice 0 - Python Introduction\n",
    "\n",
    "**Author:** Cristian David Araujo A.\n",
    "\n",
    "**ID:** 1089568350\n",
    "\n",
    "**Date:** 17/08/2024\n",
    "\n",
    "This notebook serves as a practice exercise for Python introduction. It contains code examples and explanations to help understand the basics of Python programming language for the course of digital signals processing."
   ]
  },
  {
   "cell_type": "code",
   "execution_count": 6,
   "metadata": {},
   "outputs": [
    {
     "name": "stdout",
     "output_type": "stream",
     "text": [
      "Jose es una loca\n"
     ]
    }
   ],
   "source": []
  }
 ],
 "metadata": {
  "kernelspec": {
   "display_name": "Python 3",
   "language": "python",
   "name": "python3"
  },
  "language_info": {
   "codemirror_mode": {
    "name": "ipython",
    "version": 3
   },
   "file_extension": ".py",
   "mimetype": "text/x-python",
   "name": "python",
   "nbconvert_exporter": "python",
   "pygments_lexer": "ipython3",
   "version": "3.10.13"
  }
 },
 "nbformat": 4,
 "nbformat_minor": 2
}
